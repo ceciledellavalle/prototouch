{
 "cells": [
  {
   "cell_type": "code",
   "execution_count": null,
   "id": "263eccec",
   "metadata": {},
   "outputs": [],
   "source": [
    "from pynput.mouse import Listener as MouseListener\n",
    "from pynput.keyboard import Listener as KeyboardListener, Key\n",
    "import time"
   ]
  },
  {
   "cell_type": "code",
   "execution_count": null,
   "id": "d9b70f0c",
   "metadata": {},
   "outputs": [
    {
     "name": "stderr",
     "output_type": "stream",
     "text": [
      "This process is not trusted! Input event monitoring will not be possible until it is added to accessibility clients.\n"
     ]
    },
    {
     "name": "stdout",
     "output_type": "stream",
     "text": [
      "La résolution du trackpad est :\n",
      "Largeur (x) : 0.0 - 1919.984375\n",
      "Hauteur (y) : 0.0 - 2025.680419921875\n",
      "Pas de mouvement depuis 10 secondes, arrêt du programme.\n"
     ]
    }
   ],
   "source": [
    "# Variables pour stocker les coordonnées extrêmes\n",
    "min_x, min_y = float('inf'), float('inf')\n",
    "max_x, max_y = float('-inf'), float('-inf')\n",
    "last_move_time = time.time()\n",
    "\n",
    "# Durée d'inactivité après laquelle l'écoute sera arrêtée (10 secondes)\n",
    "INACTIVITY_TIMEOUT = 3\n",
    "\n",
    "# Fonction qui sera appelée à chaque mouvement de la souris\n",
    "def on_move(x, y):\n",
    "    global min_x, min_y, max_x, max_y, last_move_time\n",
    "    # Mise à jour des limites du trackpad\n",
    "    min_x = min(min_x, x)\n",
    "    min_y = min(min_y, y)\n",
    "    max_x = max(max_x, x)\n",
    "    max_y = max(max_y, y)\n",
    "    # Réinitialiser le compteur de temps (inactivité)\n",
    "    last_move_time = time.time()\n",
    "\n",
    "# Fonction pour vérifier l'inactivité en parallèle\n",
    "def on_click(x, y, button, pressed):\n",
    "    return True  # Ne rien faire lorsqu'on clique (on veut juste suivre le mouvement)\n",
    "\n",
    "# Fonction pour vérifier l'inactivité\n",
    "def check_inactivity():\n",
    "    global last_move_time\n",
    "    # Vérifier si l'inactivité dépasse la limite\n",
    "    if time.time() - last_move_time > INACTIVITY_TIMEOUT:\n",
    "        print(f\"La résolution du trackpad est :\")\n",
    "        print(f\"Largeur (x) : {min_x} - {max_x}\")\n",
    "        print(f\"Hauteur (y) : {min_y} - {max_y}\")\n",
    "        print(\"Pas de mouvement depuis 10 secondes, arrêt du programme.\")\n",
    "        return False  # Arrêter le listener\n",
    "    return True\n",
    "\n",
    "# Lancer un listener pour surveiller les événements de la souris\n",
    "def start_mouse_listener():\n",
    "    with MouseListener(on_move=on_move, on_click=on_click) as listener:\n",
    "        while listener.running:\n",
    "            if not check_inactivity():\n",
    "                listener.stop()  # Arrêter le listener si inactivité\n",
    "            time.sleep(1)  # Vérifier l'inactivité toutes les secondes\n",
    "\n",
    "# Démarrer le monitoring de la souris\n",
    "start_mouse_listener()\n"
   ]
  },
  {
   "cell_type": "code",
   "execution_count": null,
   "id": "2e1f802a",
   "metadata": {},
   "outputs": [],
   "source": []
  },
  {
   "cell_type": "code",
   "execution_count": null,
   "id": "b6051995",
   "metadata": {},
   "outputs": [],
   "source": []
  }
 ],
 "metadata": {
  "kernelspec": {
   "display_name": "venv",
   "language": "python",
   "name": "python3"
  },
  "language_info": {
   "codemirror_mode": {
    "name": "ipython",
    "version": 3
   },
   "file_extension": ".py",
   "mimetype": "text/x-python",
   "name": "python",
   "nbconvert_exporter": "python",
   "pygments_lexer": "ipython3",
   "version": "3.9.4"
  }
 },
 "nbformat": 4,
 "nbformat_minor": 5
}
