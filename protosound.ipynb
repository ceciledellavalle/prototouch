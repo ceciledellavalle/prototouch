{
 "cells": [
  {
   "cell_type": "code",
   "execution_count": 11,
   "id": "c87e3317",
   "metadata": {},
   "outputs": [],
   "source": [
    "import pygame\n",
    "import os\n",
    "from pynput.mouse import Listener as MouseListener\n",
    "from pynput.keyboard import Listener\n",
    "import time"
   ]
  },
  {
   "cell_type": "code",
   "execution_count": null,
   "id": "75204cf2",
   "metadata": {},
   "outputs": [],
   "source": [
    "# Definition des notes\n",
    "chemin_courant = os.getcwd()\n",
    "Note = 'Fm'"
   ]
  },
  {
   "cell_type": "code",
   "execution_count": 1,
   "id": "2520bb52",
   "metadata": {},
   "outputs": [
    {
     "ename": "NameError",
     "evalue": "name 'pygame' is not defined",
     "output_type": "error",
     "traceback": [
      "\u001b[0;31m---------------------------------------------------------------------------\u001b[0m",
      "\u001b[0;31mNameError\u001b[0m                                 Traceback (most recent call last)",
      "Cell \u001b[0;32mIn[1], line 17\u001b[0m\n\u001b[1;32m     14\u001b[0m                 \u001b[38;5;28mprint\u001b[39m(\u001b[38;5;124m\"\u001b[39m\u001b[38;5;124mArrêt de la musique.\u001b[39m\u001b[38;5;124m\"\u001b[39m)\n\u001b[1;32m     16\u001b[0m \u001b[38;5;66;03m# Initialiser et jouer pygame mixer\u001b[39;00m\n\u001b[0;32m---> 17\u001b[0m \u001b[43mpygame\u001b[49m\u001b[38;5;241m.\u001b[39mmixer\u001b[38;5;241m.\u001b[39minit()\n\u001b[1;32m     18\u001b[0m time_begin \u001b[38;5;241m=\u001b[39m time\u001b[38;5;241m.\u001b[39mtime()\n\u001b[1;32m     19\u001b[0m pygame\u001b[38;5;241m.\u001b[39mmixer\u001b[38;5;241m.\u001b[39mmusic\u001b[38;5;241m.\u001b[39mload(chemin_courant \u001b[38;5;241m+\u001b[39m\u001b[38;5;124m'\u001b[39m\u001b[38;5;124m/sounds\u001b[39m\u001b[38;5;124m'\u001b[39m\u001b[38;5;241m+\u001b[39m\u001b[38;5;124m'\u001b[39m\u001b[38;5;124m/\u001b[39m\u001b[38;5;124m'\u001b[39m\u001b[38;5;241m+\u001b[39m Note \u001b[38;5;241m+\u001b[39m\u001b[38;5;124m'\u001b[39m\u001b[38;5;124m.wav\u001b[39m\u001b[38;5;124m'\u001b[39m)\n",
      "\u001b[0;31mNameError\u001b[0m: name 'pygame' is not defined"
     ]
    }
   ],
   "source": [
    "\n",
    "def on_click(x, y, button, pressed):\n",
    "    return True\n",
    "\n",
    "# Fonction pour vérifier l'inactivité en parallèle\n",
    "def start_mouse_listener():\n",
    "    global time_begin\n",
    "    with MouseListener(on_click=on_click) as listener:\n",
    "        while listener.running:\n",
    "            if on_click:\n",
    "                pygame.mixer.music.stop() # Arrêter le listener si inactivité\n",
    "                print(\"Arrêt de la musique.\")\n",
    "            elif time.time() - time_begin>10 :\n",
    "                pygame.mixer.music.stop() # Arrêter le listener si inactivité\n",
    "                print(\"Arrêt de la musique.\")\n",
    "\n",
    "# Initialiser et jouer pygame mixer\n",
    "pygame.mixer.init()\n",
    "time_begin = time.time()\n",
    "pygame.mixer.music.load(chemin_courant +'/sounds'+'/'+ Note +'.wav')\n",
    "pygame.mixer.music.play(loops=-1)\n",
    "\n",
    "# Boucle principale pour maintenir le programme actif\n",
    "print(\"La musique joue en boucle infinie. Appuyez sur Ctrl+C pour arrêter.\")\n",
    "start_mouse_listener()\n",
    "    \n",
    "\n"
   ]
  },
  {
   "cell_type": "code",
   "execution_count": null,
   "id": "fd23dc65",
   "metadata": {},
   "outputs": [],
   "source": []
  },
  {
   "cell_type": "code",
   "execution_count": null,
   "id": "1e6ac98a",
   "metadata": {},
   "outputs": [],
   "source": []
  },
  {
   "cell_type": "code",
   "execution_count": null,
   "id": "0f6dd281",
   "metadata": {},
   "outputs": [],
   "source": []
  }
 ],
 "metadata": {
  "kernelspec": {
   "display_name": "venv",
   "language": "python",
   "name": "python3"
  },
  "language_info": {
   "codemirror_mode": {
    "name": "ipython",
    "version": 3
   },
   "file_extension": ".py",
   "mimetype": "text/x-python",
   "name": "python",
   "nbconvert_exporter": "python",
   "pygments_lexer": "ipython3",
   "version": "3.9.4"
  }
 },
 "nbformat": 4,
 "nbformat_minor": 5
}
