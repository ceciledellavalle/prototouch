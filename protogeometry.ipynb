{
 "cells": [
  {
   "cell_type": "code",
   "execution_count": null,
   "id": "221e1438",
   "metadata": {},
   "outputs": [],
   "source": [
    "def split_rectangle(rectangle, k):\n",
    "    xmin, xmax, ymin, ymax = rectangle\n",
    "    width = xmax - xmin\n",
    "    height = ymax - ymin\n",
    "\n",
    "    # Calcul de la surface totale et de la surface de chaque sous-rectangle\n",
    "    total_area = width * height\n",
    "    sub_area = total_area / k\n",
    "\n",
    "    rectangles = []\n",
    "\n",
    "    # On commence par diviser la largeur si possible\n",
    "    if width >= height:\n",
    "        # Diviser la largeur (x) en k segments\n",
    "        new_width = width / k\n",
    "        for i in range(k):\n",
    "            new_xmin = xmin + i * new_width\n",
    "            new_xmax = new_xmin + new_width\n",
    "            rectangles.append([new_xmin, new_xmax, ymin, ymax])\n",
    "    else:\n",
    "        # Si la largeur est trop petite, diviser la hauteur (y)\n",
    "        new_height = height / k\n",
    "        for i in range(k):\n",
    "            new_ymin = ymin + i * new_height\n",
    "            new_ymax = new_ymin + new_height\n",
    "            rectangles.append([xmin, xmax, new_ymin, new_ymax])\n",
    "\n",
    "    return rectangles"
   ]
  },
  {
   "cell_type": "code",
   "execution_count": 2,
   "id": "79078184",
   "metadata": {},
   "outputs": [],
   "source": [
    "# Variables pour stocker les coordonnées extrêmes\n",
    "min_x, max_x = 0.0, 1919.98\n",
    "min_y, max_y = 0.0, 2025.68\n",
    "resolution = [min_x, max_x, min_y, max_y]"
   ]
  },
  {
   "cell_type": "code",
   "execution_count": 3,
   "id": "77f90ef2",
   "metadata": {},
   "outputs": [
    {
     "data": {
      "text/plain": [
       "[[0.0, 1919.98, 0.0, 405.136],\n",
       " [0.0, 1919.98, 405.136, 810.272],\n",
       " [0.0, 1919.98, 810.272, 1215.4080000000001],\n",
       " [0.0, 1919.98, 1215.4080000000001, 1620.544],\n",
       " [0.0, 1919.98, 1620.544, 2025.68]]"
      ]
     },
     "execution_count": 3,
     "metadata": {},
     "output_type": "execute_result"
    }
   ],
   "source": [
    "split_rectangle(resolution,5)"
   ]
  },
  {
   "cell_type": "code",
   "execution_count": null,
   "id": "9a1d49b1",
   "metadata": {},
   "outputs": [],
   "source": []
  }
 ],
 "metadata": {
  "kernelspec": {
   "display_name": "venv",
   "language": "python",
   "name": "python3"
  },
  "language_info": {
   "codemirror_mode": {
    "name": "ipython",
    "version": 3
   },
   "file_extension": ".py",
   "mimetype": "text/x-python",
   "name": "python",
   "nbconvert_exporter": "python",
   "pygments_lexer": "ipython3",
   "version": "3.9.4"
  }
 },
 "nbformat": 4,
 "nbformat_minor": 5
}
